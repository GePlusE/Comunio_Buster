{
 "cells": [
  {
   "cell_type": "code",
   "execution_count": 66,
   "metadata": {},
   "outputs": [
    {
     "data": {
      "text/html": [
       "<div>\n",
       "<style scoped>\n",
       "    .dataframe tbody tr th:only-of-type {\n",
       "        vertical-align: middle;\n",
       "    }\n",
       "\n",
       "    .dataframe tbody tr th {\n",
       "        vertical-align: top;\n",
       "    }\n",
       "\n",
       "    .dataframe thead th {\n",
       "        text-align: right;\n",
       "    }\n",
       "</style>\n",
       "<table border=\"1\" class=\"dataframe\">\n",
       "  <thead>\n",
       "    <tr style=\"text-align: right;\">\n",
       "      <th></th>\n",
       "      <th>Name</th>\n",
       "      <th>Position</th>\n",
       "      <th>player_ID</th>\n",
       "      <th>save_date</th>\n",
       "      <th>transaction_ID</th>\n",
       "      <th>club</th>\n",
       "      <th>value</th>\n",
       "      <th>prognosis</th>\n",
       "      <th>total_points</th>\n",
       "      <th>points_volatility</th>\n",
       "      <th>historical_point_yield</th>\n",
       "      <th>last_points</th>\n",
       "      <th>suggestion</th>\n",
       "      <th>value_change_L7D</th>\n",
       "      <th>team_value_change_L7D</th>\n",
       "      <th>value_change_L3M</th>\n",
       "      <th>rated_games</th>\n",
       "      <th>injury_rate</th>\n",
       "      <th>injury_status</th>\n",
       "      <th>fav_team_nomination</th>\n",
       "      <th>dreamteam_nomination</th>\n",
       "      <th>club_rank</th>\n",
       "    </tr>\n",
       "  </thead>\n",
       "  <tbody>\n",
       "    <tr>\n",
       "      <th>135609</th>\n",
       "      <td>Scott</td>\n",
       "      <td>Mittelfeld</td>\n",
       "      <td>33387.0</td>\n",
       "      <td>2021-05-30</td>\n",
       "      <td>2.021053e+12</td>\n",
       "      <td>FC Bayern München</td>\n",
       "      <td>620000.0</td>\n",
       "      <td>630000</td>\n",
       "      <td>1.0</td>\n",
       "      <td>niedrig</td>\n",
       "      <td>Gering bis mittel</td>\n",
       "      <td>NaN</td>\n",
       "      <td>Halten</td>\n",
       "      <td>+160000 / +34,8%</td>\n",
       "      <td>-30320000 /     -19,1%</td>\n",
       "      <td>Unbekannt</td>\n",
       "      <td>2.0</td>\n",
       "      <td>Niedrig</td>\n",
       "      <td>NaN</td>\n",
       "      <td>NaN</td>\n",
       "      <td>NaN</td>\n",
       "      <td>1.0</td>\n",
       "    </tr>\n",
       "    <tr>\n",
       "      <th>135610</th>\n",
       "      <td>Trapp</td>\n",
       "      <td>Torhüter</td>\n",
       "      <td>31621.0</td>\n",
       "      <td>2021-05-30</td>\n",
       "      <td>2.021053e+12</td>\n",
       "      <td>Eintracht Frankfurt</td>\n",
       "      <td>1410000.0</td>\n",
       "      <td>1410000</td>\n",
       "      <td>78.0</td>\n",
       "      <td>mittel</td>\n",
       "      <td>Gering bis mittel</td>\n",
       "      <td>NaN</td>\n",
       "      <td>Halten</td>\n",
       "      <td>-220000 / -13,5%</td>\n",
       "      <td>-21540000 /     -26,5%</td>\n",
       "      <td>-1040000 / -42,4%</td>\n",
       "      <td>33.0</td>\n",
       "      <td>Niedrig</td>\n",
       "      <td>NaN</td>\n",
       "      <td>NaN</td>\n",
       "      <td>1.0</td>\n",
       "      <td>5.0</td>\n",
       "    </tr>\n",
       "    <tr>\n",
       "      <th>135611</th>\n",
       "      <td>Moukoko</td>\n",
       "      <td>Stürmer</td>\n",
       "      <td>33260.0</td>\n",
       "      <td>2021-05-30</td>\n",
       "      <td>2.021053e+12</td>\n",
       "      <td>Borussia Dortmund</td>\n",
       "      <td>1780000.0</td>\n",
       "      <td>1750000</td>\n",
       "      <td>33.0</td>\n",
       "      <td>mittel</td>\n",
       "      <td>Gering bis mittel</td>\n",
       "      <td>NaN</td>\n",
       "      <td>Halten</td>\n",
       "      <td>+610000 / +52,1%</td>\n",
       "      <td>-31300000 /     -20,2%</td>\n",
       "      <td>-2560000 / -59,0%</td>\n",
       "      <td>13.0</td>\n",
       "      <td>Hoch</td>\n",
       "      <td>NaN</td>\n",
       "      <td>NaN</td>\n",
       "      <td>NaN</td>\n",
       "      <td>3.0</td>\n",
       "    </tr>\n",
       "    <tr>\n",
       "      <th>135612</th>\n",
       "      <td>Kalajdžić</td>\n",
       "      <td>Stürmer</td>\n",
       "      <td>33246.0</td>\n",
       "      <td>2021-05-30</td>\n",
       "      <td>2.021053e+12</td>\n",
       "      <td>VfB Stuttgart</td>\n",
       "      <td>11340000.0</td>\n",
       "      <td>11240000</td>\n",
       "      <td>168.0</td>\n",
       "      <td>niedrig</td>\n",
       "      <td>Gering bis mittel</td>\n",
       "      <td>1.0</td>\n",
       "      <td>Halten</td>\n",
       "      <td>-1880000 / -14,2%</td>\n",
       "      <td>-9940000 /     -15,8%</td>\n",
       "      <td>-1870000 / -14,2%</td>\n",
       "      <td>32.0</td>\n",
       "      <td>Niedrig</td>\n",
       "      <td>NaN</td>\n",
       "      <td>NaN</td>\n",
       "      <td>2.0</td>\n",
       "      <td>9.0</td>\n",
       "    </tr>\n",
       "    <tr>\n",
       "      <th>135613</th>\n",
       "      <td>Ahamada</td>\n",
       "      <td>Mittelfeld</td>\n",
       "      <td>33347.0</td>\n",
       "      <td>2021-05-30</td>\n",
       "      <td>2.021053e+12</td>\n",
       "      <td>VfB Stuttgart</td>\n",
       "      <td>500000.0</td>\n",
       "      <td>510000</td>\n",
       "      <td>-7.0</td>\n",
       "      <td>niedrig</td>\n",
       "      <td>Gering bis mittel</td>\n",
       "      <td>-2.0</td>\n",
       "      <td>Halten</td>\n",
       "      <td>-50000 / -9,1%</td>\n",
       "      <td>-9940000 /     -15,8%</td>\n",
       "      <td>-10000 / -2,0%</td>\n",
       "      <td>6.0</td>\n",
       "      <td>Niedrig</td>\n",
       "      <td>NaN</td>\n",
       "      <td>NaN</td>\n",
       "      <td>NaN</td>\n",
       "      <td>9.0</td>\n",
       "    </tr>\n",
       "  </tbody>\n",
       "</table>\n",
       "</div>"
      ],
      "text/plain": [
       "             Name    Position  player_ID  save_date  transaction_ID  \\\n",
       "135609      Scott  Mittelfeld    33387.0 2021-05-30    2.021053e+12   \n",
       "135610      Trapp    Torhüter    31621.0 2021-05-30    2.021053e+12   \n",
       "135611    Moukoko     Stürmer    33260.0 2021-05-30    2.021053e+12   \n",
       "135612  Kalajdžić     Stürmer    33246.0 2021-05-30    2.021053e+12   \n",
       "135613    Ahamada  Mittelfeld    33347.0 2021-05-30    2.021053e+12   \n",
       "\n",
       "                       club       value prognosis  total_points  \\\n",
       "135609    FC Bayern München    620000.0    630000           1.0   \n",
       "135610  Eintracht Frankfurt   1410000.0   1410000          78.0   \n",
       "135611    Borussia Dortmund   1780000.0   1750000          33.0   \n",
       "135612        VfB Stuttgart  11340000.0  11240000         168.0   \n",
       "135613        VfB Stuttgart    500000.0    510000          -7.0   \n",
       "\n",
       "       points_volatility historical_point_yield  last_points suggestion  \\\n",
       "135609           niedrig      Gering bis mittel          NaN     Halten   \n",
       "135610            mittel      Gering bis mittel          NaN     Halten   \n",
       "135611            mittel      Gering bis mittel          NaN     Halten   \n",
       "135612           niedrig      Gering bis mittel          1.0     Halten   \n",
       "135613           niedrig      Gering bis mittel         -2.0     Halten   \n",
       "\n",
       "         value_change_L7D   team_value_change_L7D   value_change_L3M  \\\n",
       "135609   +160000 / +34,8%  -30320000 /     -19,1%          Unbekannt   \n",
       "135610   -220000 / -13,5%  -21540000 /     -26,5%  -1040000 / -42,4%   \n",
       "135611   +610000 / +52,1%  -31300000 /     -20,2%  -2560000 / -59,0%   \n",
       "135612  -1880000 / -14,2%   -9940000 /     -15,8%  -1870000 / -14,2%   \n",
       "135613     -50000 / -9,1%   -9940000 /     -15,8%     -10000 / -2,0%   \n",
       "\n",
       "        rated_games injury_rate injury_status  fav_team_nomination  \\\n",
       "135609          2.0     Niedrig           NaN                  NaN   \n",
       "135610         33.0     Niedrig           NaN                  NaN   \n",
       "135611         13.0        Hoch           NaN                  NaN   \n",
       "135612         32.0     Niedrig           NaN                  NaN   \n",
       "135613          6.0     Niedrig           NaN                  NaN   \n",
       "\n",
       "        dreamteam_nomination  club_rank  \n",
       "135609                   NaN        1.0  \n",
       "135610                   1.0        5.0  \n",
       "135611                   NaN        3.0  \n",
       "135612                   2.0        9.0  \n",
       "135613                   NaN        9.0  "
      ]
     },
     "execution_count": 66,
     "metadata": {},
     "output_type": "execute_result"
    }
   ],
   "source": [
    "import pandas as pd\n",
    "import datetime as dt\n",
    "\n",
    "df = pd.read_csv(\"fact_Player2.csv\", sep=\";\", dtype={'injury_rate':'str', 'injury_status':'str'})\n",
    "df[\"save_date\"] = pd.to_datetime(df['save_date'], dayfirst=True)\n",
    "date = pd.to_datetime(\"30.05.2021\", dayfirst=True) # df[\"save_date\"].max()\n",
    "df = df[df[\"save_date\"] == date]\n",
    "pd.set_option('display.max_columns',None)\n",
    "df.head()\n"
   ]
  },
  {
   "cell_type": "code",
   "execution_count": 67,
   "metadata": {},
   "outputs": [],
   "source": [
    "from sklearn.model_selection import train_test_split\n",
    "\n",
    "X = df[[\"value\"]].values\n",
    "Y = df[[\"total_points\"]].values\n",
    "\n",
    "X_train, X_test, Y_train, Y_test = train_test_split(X,Y,random_state=0, test_size=0.2)"
   ]
  },
  {
   "cell_type": "code",
   "execution_count": 68,
   "metadata": {},
   "outputs": [
    {
     "data": {
      "image/png": "[encoded data removed]",
      "text/plain": [
       "<Figure size 432x288 with 1 Axes>"
      ]
     },
     "metadata": {
      "needs_background": "light"
     },
     "output_type": "display_data"
    }
   ],
   "source": [
    "import matplotlib.pyplot as plt\n",
    "\n",
    "plt.scatter(X_train,Y_train)\n",
    "plt.scatter(X_test,Y_test, color=\"red\")\n",
    "plt.show()"
   ]
  },
  {
   "cell_type": "code",
   "execution_count": 69,
   "metadata": {},
   "outputs": [
    {
     "name": "stdout",
     "output_type": "stream",
     "text": [
      "Inter: [18.55672491]\n",
      "Coef: [[1.46488551e-05]]\n"
     ]
    }
   ],
   "source": [
    "from sklearn.linear_model import LinearRegression\n",
    "model = LinearRegression()\n",
    "model.fit(X_train, Y_train)\n",
    "\n",
    "print(\"Inter: \"+str(model.intercept_))\n",
    "print(\"Coef: \"+ str(model.coef_))"
   ]
  },
  {
   "cell_type": "code",
   "execution_count": 72,
   "metadata": {},
   "outputs": [
    {
     "data": {
      "image/png": "[encoded data removed]",
      "text/plain": [
       "<Figure size 432x288 with 1 Axes>"
      ]
     },
     "metadata": {
      "needs_background": "light"
     },
     "output_type": "display_data"
    }
   ],
   "source": [
    "predicted = model.predict(X_test)\n",
    "\n",
    "plt.scatter(X_test,Y_test, color=\"red\")\n",
    "plt.plot(X_test,predicted)\n",
    "plt.show()"
   ]
  },
  {
   "cell_type": "code",
   "execution_count": null,
   "metadata": {},
   "outputs": [],
   "source": []
  }
 ],
 "metadata": {
  "interpreter": {
   "hash": "aed016d30c9ef742e929fc1f0643b8d86e7989528e4c75ad12e0a941f75df28a"
  },
  "kernelspec": {
   "display_name": "Python 3.8.3 64-bit ('venv': venv)",
   "name": "python3"
  },
  "language_info": {
   "codemirror_mode": {
    "name": "ipython",
    "version": 3
   },
   "file_extension": ".py",
   "mimetype": "text/x-python",
   "name": "python",
   "nbconvert_exporter": "python",
   "pygments_lexer": "ipython3",
   "version": "3.8.3"
  },
  "orig_nbformat": 4
 },
 "nbformat": 4,
 "nbformat_minor": 2
}